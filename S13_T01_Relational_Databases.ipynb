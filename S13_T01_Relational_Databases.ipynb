{
 "cells": [
  {
   "cell_type": "markdown",
   "metadata": {},
   "source": [
    "# Statement\n",
    "\n",
    "Learn how to create a relational model and entity-relationship diagram.\n",
    "\n",
    "Level 1\n",
    "- Exercise 1\n",
    "- \n",
    "Create an example relational database using a text document or by hand. Design it to contain the following tables, and establish the relationships you consider necessary between them:\n",
    "\n",
    "- Shopping table (transactions)\n",
    "\n",
    "- Establishments table\n",
    "\n",
    "- Employees table\n",
    "\n",
    "- Customer table\n",
    "\n",
    "- Products table\n",
    "\n",
    "- Type of products table\n",
    "\n",
    "Define the properties of the relationships (1:1, 1:n, n:n), and create some of the variables they might contain, for example:\n",
    "\n",
    "Establishments table\n",
    "\n",
    "- Establishment ID (unique key)\n",
    "\n",
    "- Name\n",
    "\n",
    "- Location\n",
    "\n",
    "- Area\n",
    "\n",
    "Level 2\n",
    "\n",
    "- Exercise 2\n",
    "Use an entity-relationship diagram creation program such as http://dia-installer.de to create the diagram.\n",
    "\n",
    "Level 3\n",
    "\n",
    "- Exercise 3\n",
    "\n",
    "Use the MySQL Workbench to create a relational model."
   ]
  },
  {
   "cell_type": "markdown",
   "metadata": {},
   "source": [
    "# Level 1\n",
    "## - Exercise 1\n",
    "- \n",
    "Create an example relational database using a text document or by hand. Design it to contain the following tables, and establish the relationships you consider necessary between them:\n",
    "\n",
    "- Shopping table (transactions)\n",
    "\n",
    "- Establishments table\n",
    "\n",
    "- Employees table\n",
    "\n",
    "- Customer table\n",
    "\n",
    "- Products table\n",
    "\n",
    "- Type of products table\n",
    "\n",
    "Define the properties of the relationships (1:1, 1:n, n:n), and create some of the variables they might contain, for example:\n",
    "\n",
    "Establishments table\n",
    "\n",
    "- Establishment ID (unique key)\n",
    "\n",
    "- Name\n",
    "\n",
    "- Location\n",
    "\n",
    "- Area\n"
   ]
  },
  {
   "cell_type": "markdown",
   "metadata": {},
   "source": [
    "![](2022-04-01-15-27-11.png)"
   ]
  },
  {
   "cell_type": "markdown",
   "metadata": {},
   "source": [
    "# Level 2\n",
    "\n",
    "## - Exercise 2\n",
    "Use an entity-relationship diagram creation program such as http://dia-installer.de to create the diagram.\n",
    "\n",
    "(We have used https://drawsql.app/ that is very good to create sql diagrams!)"
   ]
  },
  {
   "cell_type": "markdown",
   "metadata": {},
   "source": [
    "![](2022-04-01-16-41-53.png)"
   ]
  },
  {
   "cell_type": "markdown",
   "metadata": {},
   "source": [
    "\n",
    "# Level 3\n",
    "\n",
    "## - Exercise 3\n",
    "\n",
    "Use the MySQL Workbench to create a relational model."
   ]
  },
  {
   "cell_type": "code",
   "execution_count": null,
   "metadata": {},
   "outputs": [],
   "source": []
  }
 ],
 "metadata": {
  "language_info": {
   "name": "python"
  },
  "orig_nbformat": 4
 },
 "nbformat": 4,
 "nbformat_minor": 2
}
